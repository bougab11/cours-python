{
 "cells": [
  {
   "cell_type": "markdown",
   "id": "0ecc301d-8794-4579-a5dc-cebd681e8ac0",
   "metadata": {},
   "source": [
    "# Les classes en Python\n",
    "\n",
    "Les classes sont un élément fondamental de la programmation orientée objet (POO) en Python. Elles permettent de définir des \"plans\" pour créer des objets avec des attributs (caractéristiques) et des méthodes (actions)."
   ]
  },
  {
   "cell_type": "markdown",
   "id": "bf29d116-1861-4bf1-aa5a-b77c4c230a12",
   "metadata": {},
   "source": [
    "##  Définition d'une classe\n",
    "\n",
    "Pour définir une classe en Python, on utilise le mot-clé `class`, suivi du nom de la classe. Voici un exemple avec une classe `Chien` qui modélise un chien :\n"
   ]
  },
  {
   "cell_type": "code",
   "execution_count": 1,
   "id": "205de5fe-c3b5-454c-9ccf-23e0f4b271be",
   "metadata": {},
   "outputs": [],
   "source": [
    "class Chien:\n",
    "    def __init__(self, nom, race, age):\n",
    "        self.nom = nom\n",
    "        self.race = race\n",
    "        self.age = age\n",
    "\n"
   ]
  },
  {
   "cell_type": "markdown",
   "id": "1c2d070d-08d8-4876-8184-0a69db6c1f09",
   "metadata": {},
   "source": [
    "La méthode `__init__` est ce qu'on appelle un constructeur. Elle est automatiquement appelée lorsqu'un nouvel objet de la classe est créé. Le premier paramètre `self` fait référence à l'instance actuelle de la classe et est utilisé pour accéder aux attributs et méthodes de l'objet.\r\n",
    "\r\n",
    "Voici comment on définit des méthodes dans la classe :\r\n"
   ]
  },
  {
   "cell_type": "code",
   "execution_count": 2,
   "id": "cc63793a-fe3f-4f14-858b-647497d23829",
   "metadata": {},
   "outputs": [],
   "source": [
    "class Chien:\n",
    "    def __init__(self, nom, race, age):\n",
    "        self.nom = nom\n",
    "        self.race = race\n",
    "        self.age = age\n",
    "\n",
    "    def aboyer(self):\n",
    "        print(\"Woof!\")\n",
    "\n",
    "    def info(self):\n",
    "        print(f\"Nom: {self.nom}, Race: {self.race}, Age: {self.age}\")"
   ]
  },
  {
   "cell_type": "markdown",
   "id": "5e03e3b3-526f-435f-aa17-0a530028b7cc",
   "metadata": {},
   "source": [
    "Ces méthodes peuvent ensuite être appelées sur des instances de la classe."
   ]
  },
  {
   "cell_type": "markdown",
   "id": "1d4965dd-1d53-4a1d-bc5c-e54c1966d261",
   "metadata": {},
   "source": [
    "##  Création d'objets (instances)\r\n",
    "\r\n",
    "La création d'une instance d'une classe se fait en appelant le nom de la classe comme une fonction, en passant les arguments attendus par le constructeur :\r\n"
   ]
  },
  {
   "cell_type": "code",
   "execution_count": 3,
   "id": "a5ec3739-f01c-4dd8-8cab-6ff09b26b4ac",
   "metadata": {},
   "outputs": [],
   "source": [
    "mon_chien = Chien(\"Buddy\", \"Labrador\", 3)\n",
    "votre_chien = Chien(\"Luna\", \"Berger Allemand\", 2)"
   ]
  },
  {
   "cell_type": "markdown",
   "id": "d0714d75-cea9-44f3-9bcd-6a1ff1745bee",
   "metadata": {},
   "source": [
    "Chaque instance possède ses propres attributs, comme `nom`, `race`, et `age`, qui peuvent varier d'une instance à l'autre.\r\n"
   ]
  },
  {
   "cell_type": "markdown",
   "id": "b370e281-0e21-4e3d-b7aa-9dc5af9512ee",
   "metadata": {},
   "source": [
    "##  Accéder aux attributs et utiliser les méthodes\r\n",
    "\r\n",
    "Pour accéder aux attributs ou appeler les méthodes d'une instance, on utilise le point `.` :\r\n"
   ]
  },
  {
   "cell_type": "code",
   "execution_count": 4,
   "id": "b9f4f7c2-d72e-4569-8113-d6e60e4c7d6e",
   "metadata": {},
   "outputs": [
    {
     "name": "stdout",
     "output_type": "stream",
     "text": [
      "Buddy\n",
      "Woof!\n",
      "Nom: Buddy, Race: Labrador, Age: 3\n"
     ]
    }
   ],
   "source": [
    "print(mon_chien.nom)  # Affiche \"Buddy\"\n",
    "votre_chien.aboyer()  # Affiche \"Woof!\"\n",
    "mon_chien.info()      # Affiche les informations du chien"
   ]
  },
  {
   "cell_type": "markdown",
   "id": "c0a80f00-4dcb-4336-a311-2291050e1705",
   "metadata": {},
   "source": [
    "\r\n",
    "##. Héritage\r\n",
    "\r\n",
    "L'héritage permet à une classe de hériter des attributs et méthodes d'une autre classe. Voici un exemple avec la classe `Animal` et la classe `Chat` :\r\n"
   ]
  },
  {
   "cell_type": "code",
   "execution_count": 5,
   "id": "b633b6b3-9172-405c-94c1-76622f8c98d8",
   "metadata": {},
   "outputs": [],
   "source": [
    "class Animal:\n",
    "    def __init__(self, age):\n",
    "        self.age = age\n",
    "\n",
    "class Chat(Animal):\n",
    "    def __init__(self, age, couleur):\n",
    "        super().__init__(age)\n",
    "        self.couleur = couleur\n",
    "\n",
    "    def miauler(self):\n",
    "        print(\"Miaou!\")"
   ]
  },
  {
   "cell_type": "markdown",
   "id": "cfc6d375-2be4-4cf5-8aca-a30546406876",
   "metadata": {},
   "source": [
    "La classe `Chat` hérite de `Animal` et utilise `super()` pour appeler le constructeur de la classe parente.\r\n"
   ]
  },
  {
   "cell_type": "markdown",
   "id": "6a6b417c-d352-4ee9-ba3d-73c76d3a9a11",
   "metadata": {},
   "source": [
    "##  Encapsulation\r\n",
    "\r\n",
    "L'encapsulation est un principe important en POO qui permet de contrôler l'accès aux attributs et méthodes d'une classe. En Python, on utilise souvent des conventions pour indiquer la visibilité :\r\n",
    "\r\n",
    "- **Public** (par défaut) : Accessible de n'importe où.\r\n",
    "- **Protégé** (préfixé par `_`) : Accessible depuis la classe et ses sous-classes.\r\n",
    "- **Privé** (préfixé par `__`) : Accessible uniquement depuis la classe elle-même.\r\n",
    "\r\n",
    "Les classes en Python sont donc des structures puissantes qui permettent de modéliser des entités complexes, favorisant la réutilisation du code et la création de programmes plus clairs et maintenables.\r\n"
   ]
  },
  {
   "cell_type": "markdown",
   "id": "5d77f38d-b3f7-48fb-830a-476be151091d",
   "metadata": {},
   "source": [
    "\n",
    "# Classes Avancées en Python\r\n",
    "Cette sectionrs explore des concepts plus avancés de programmation orientée objet (POO) en Python, approfondissant les mécanismes des classes pour construire des structures de code plus robustes, flexibles et expressives.\r\n"
   ]
  },
  {
   "cell_type": "markdown",
   "id": "4366930a-ca95-442e-b714-c8d602dedc8e",
   "metadata": {},
   "source": [
    "## Classes Abstraites : Un modèle à suivre\n",
    "\n",
    "Les classes abstraites servent de modèles pour d'autres classes, définissant des méthodes que les sous-classes doivent implémenter. Elles ne peuvent pas être instanciées directement, mais fournissent une interface commune pour des classes partageant un comportement similaire.\n",
    "\n",
    "**`abc` Module:**"
   ]
  },
  {
   "cell_type": "code",
   "execution_count": 6,
   "id": "461c11d6-49e2-425d-9fb8-6045c98c5653",
   "metadata": {},
   "outputs": [],
   "source": [
    "from abc import ABC, abstractmethod\n",
    "\n",
    "class Animal(ABC):\n",
    "    @abstractmethod\n",
    "    def crier(self):\n",
    "        pass\n",
    "\n",
    "class Chien(Animal):\n",
    "    def crier(self):\n",
    "        print(\"Woof!\")\n",
    "\n",
    "class Chat(Animal):\n",
    "    def crier(self):\n",
    "        print(\"Miaou!\")"
   ]
  },
  {
   "cell_type": "markdown",
   "id": "deee642d-d391-4a06-a030-bc44650ed057",
   "metadata": {},
   "source": [
    "La classe `Animal` est abstraite, imposant à ses sous-classes (`Chien` et `Chat`) d'implémenter la méthode `crier()`"
   ]
  },
  {
   "cell_type": "markdown",
   "id": "1dc87afb-f077-4ab2-84cb-0aecd8fb2d1f",
   "metadata": {},
   "source": [
    "## Propriétés : Contrôle d'accès élégant\n",
    "\n",
    "Les propriétés offrent un moyen élégant d'accéder aux attributs, en encapsulant la logique d'accès et de modification (getters et setters) tout en maintenant une syntaxe d'accès simple.\n"
   ]
  },
  {
   "cell_type": "code",
   "execution_count": 7,
   "id": "55742cac-83b5-4d31-8f4e-bca798712fa5",
   "metadata": {},
   "outputs": [],
   "source": [
    "class Carre:\n",
    "    def __init__(self, cote):\n",
    "        self._cote = cote\n",
    "\n",
    "    @property\n",
    "    def cote(self):\n",
    "        return self._cote\n",
    "\n",
    "    @cote.setter\n",
    "    def cote(self, valeur):\n",
    "        if valeur < 0:\n",
    "            raise ValueError(\"Le côté doit être positif\")\n",
    "            self._cote = valeur"
   ]
  },
  {
   "cell_type": "markdown",
   "id": "ca69c865-11d7-4703-9201-440d1d44690f",
   "metadata": {},
   "source": [
    "La propriété `cote` permet d'accéder et de modifier l'attribut `_cote` de manière contrôlée.\r\n"
   ]
  },
  {
   "cell_type": "markdown",
   "id": "1de5005a-6f7a-46c7-a440-6593217bdf7e",
   "metadata": {},
   "source": [
    "## Méthodes de Classe et Statiques\r\n",
    "\r\n",
    "* **Méthodes de classe (`@classmethod`)**: Reçoivent la classe elle-même (`cls`) comme premier argument. Elles peuvent être utilisées pour créer des objets ou accéder aux attributs de classe.\r\n",
    "* **Méthodes statiques (`@staticmethod`)**: N'ont pas accès à l'objet ou à la classe, servant de fonctions utilitaires liées à la classe.\r\n"
   ]
  },
  {
   "cell_type": "code",
   "execution_count": 8,
   "id": "88f58f6a-0116-4d86-a4cc-fb8072bf7931",
   "metadata": {},
   "outputs": [],
   "source": [
    "class Date:\n",
    "    def __init__(self, jour, mois, annee):\n",
    "        self.jour = jour\n",
    "        self.mois = mois\n",
    "        self.annee = annee\n",
    "\n",
    "    @classmethod\n",
    "    def aujourdhui(cls):\n",
    "        import datetime\n",
    "        aujourdhui = datetime.date.today()\n",
    "        return cls(aujourdhui.day, aujourdhui.month, aujourdhui.year)\n",
    "\n",
    "    @staticmethod\n",
    "    def est_bissextile(annee):\n",
    "        if (annee % 4 == 0):\n",
    "            if (annee % 100 == 0):\n",
    "                if (annee % 400 == 0):\n",
    "                    return True\n",
    "                else:\n",
    "                    return False\n",
    "            else:\n",
    "                return True\n",
    "        else:\n",
    "            return False"
   ]
  },
  {
   "cell_type": "markdown",
   "id": "dba0dbf3-2f8c-4b2c-8259-1c69a8e1ea2e",
   "metadata": {},
   "source": [
    "##  Métaclasses \r\n",
    "\r\n",
    "Les métaclasses sont des classes qui créent d'autres classes. Elles permettent de personnaliser le processus de création de classe, d'ajouter des comportements dynamiques et d'implémenter des modèles de conception avancés.\r\n"
   ]
  },
  {
   "cell_type": "code",
   "execution_count": 9,
   "id": "18df8c6b-08ff-47c2-bb0d-f605f6892030",
   "metadata": {},
   "outputs": [],
   "source": [
    "class MetaClasse(type):\n",
    "    def __new__(mcs, nom, bases, namespace):\n",
    "        # Personnaliser la création de la classe\n",
    "        return super().__new__(mcs, nom, bases, namespace)\n",
    "\n",
    "class MaClasse(metaclass=MetaClasse):\n",
    "    pass"
   ]
  },
  {
   "cell_type": "code",
   "execution_count": null,
   "id": "6839fdaa-e898-4790-bfe5-ade0912118ca",
   "metadata": {},
   "outputs": [],
   "source": []
  }
 ],
 "metadata": {
  "kernelspec": {
   "display_name": "Python 3",
   "language": "python",
   "name": "python3"
  },
  "language_info": {
   "codemirror_mode": {
    "name": "ipython",
    "version": 3
   },
   "file_extension": ".py",
   "mimetype": "text/x-python",
   "name": "python",
   "nbconvert_exporter": "python",
   "pygments_lexer": "ipython3",
   "version": "3.10.13"
  }
 },
 "nbformat": 4,
 "nbformat_minor": 5
}