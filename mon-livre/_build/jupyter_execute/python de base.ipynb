{
 "cells": [
  {
   "cell_type": "markdown",
   "id": "543098b5-7c72-4113-9d7f-15ac4b7f85b2",
   "metadata": {},
   "source": [
    "# Apprendre Python "
   ]
  },
  {
   "cell_type": "markdown",
   "id": "a7d9379c-9f44-4461-bcf9-5f7e457880e0",
   "metadata": {
    "editable": true,
    "slideshow": {
     "slide_type": ""
    },
    "tags": []
   },
   "source": [
    "\r\n",
    "Ce cours vous introduira aux bases de la programmation Python en utilisant Jupyter Notebook. L'avantage de Jupyter est qu'il permet d'exécuter du code étape par étape et de visualiser les résultats immédiatement, ce qui est idéal pour l'apprentissage.\r\n",
    "\r\n",
    "**Important:** Nous n'utiliserons pas de packages externes pour ce cours, afin de nous concentrer sur les fonctionnalités de base de Python.\r\n",
    "\r\n",
    "### 1. Variables et Types de données\r\n",
    "\r\n",
    "* **Variables:**\r\n",
    "* Une variable est un nom qui représente une valeur.\r\n",
    "* Exemples:\r\n",
    "* `x = 10` (x est une variable qui contient la valeur 10)\r\n",
    "* `nom = \"John\"` (nom est une variable qui contient la chaîne de caractères \"John\")\r\n",
    "* **Types de données:**\r\n",
    "* **Entiers (int):** Nombres entiers comme 1, 2, 3, etc.\r\n",
    "* **Flottants (float):** Nombres décimaux comme 1.2, 3.14, etc.\r\n",
    "* **Chaînes de caractères (str):** Texte entre guillemets simples ou doubles, comme \"Bonjour\"\r\n",
    "* **Booléens (bool):** Valeurs True ou False\r\n",
    "\r\n",
    "**Exercice:**\r\n",
    "\r\n",
    "1. Créez une variable appelée `age` et assignez-lui votre âge.\r\n",
    "2. Créez une variable appelée `nom` et assignez-lui votre nom.\r\n",
    "3. Affichez les valeurs des variables `age` et `nom` en utilisant la fonction `print()`.\r\n",
    "nées"
   ]
  },
  {
   "cell_type": "code",
   "execution_count": 1,
   "id": "7f9a5271-ade1-4954-a494-dd0fb634e041",
   "metadata": {},
   "outputs": [
    {
     "ename": "SyntaxError",
     "evalue": "invalid syntax (1639149382.py, line 2)",
     "output_type": "error",
     "traceback": [
      "\u001b[0;36m  Cell \u001b[0;32mIn[1], line 2\u001b[0;36m\u001b[0m\n\u001b[0;31m    age =\u001b[0m\n\u001b[0m          ^\u001b[0m\n\u001b[0;31mSyntaxError\u001b[0m\u001b[0;31m:\u001b[0m invalid syntax\n"
     ]
    }
   ],
   "source": [
    "# Votre code ici\n",
    "age = \n",
    "nom = \n",
    "print(age)\n",
    "print(nom)"
   ]
  },
  {
   "cell_type": "markdown",
   "id": "26c14937-ab65-4e42-b88f-8a6bf72fc037",
   "metadata": {},
   "source": [
    "### 2. Opérateurs\r\n",
    "\r\n",
    "* **Opérateurs arithmétiques:** +, -, *, /, // (division entière), % (modulo), ** (puissance)\r\n",
    "* **Opérateurs de comparaison:** == (égal à), != (différent de), < (inférieur à), > (supérieur à), <= (inférieur ou égal à), >= (supérieur ou égal à)\r\n",
    "* **Opérateurs logiques:** and, or, not\r\n",
    "\r\n",
    "**Exercice:**\r\n",
    "\r\n",
    "1. Calculez la somme de deux variables `a` et `b` et stockez le résultat dans une variable `somme`.\r\n",
    "2. Vérifiez si la variable `age` est supérieure à 18 et affichez le résultat.\r\n",
    "3. Utilisez l'opérateur `not` pour inverser la valeur d'une variable booléenne `x`."
   ]
  },
  {
   "cell_type": "code",
   "execution_count": null,
   "id": "3d840368-c319-4c46-af47-19a37f29150b",
   "metadata": {},
   "outputs": [],
   "source": [
    "# Votre code ici\n",
    "a = 10\n",
    "b = 5\n",
    "somme =\n",
    "\n",
    "# Vérification de l'âge\n",
    "if age > 18:\n",
    "print(\"Vous êtes majeur.\")\n",
    "else:\n",
    "print(\"Vous êtes mineur.\")\n",
    "\n",
    "# Inversion d'une valeur booléenne\n",
    "x = True\n",
    "print(not x)"
   ]
  },
  {
   "cell_type": "markdown",
   "id": "c4fee000-ff52-4fc8-b3f4-721a68fc1d90",
   "metadata": {},
   "source": [
    "### 3. Structures de contrôle\r\n",
    "\r\n",
    "* **Conditions (if/else):** Permettent d'exécuter du code en fonction de certaines conditions.\r\n",
    "* **Boucles (for/while):** Permettent de répéter un bloc de code plusieurs fois.\r\n",
    "\r\n",
    "**Exercice:**\r\n",
    "\r\n",
    "1. Écrivez un programme qui demande à l'utilisateur de saisir un nombre et qui affiche si le nombre est pair ou impair.\r\n",
    "2. Utilisez une boucle `for` pour afficher les nombres de 1 à 10.\r\n"
   ]
  },
  {
   "cell_type": "code",
   "execution_count": 4,
   "id": "895790ae-f87b-4a3c-8244-48f9fccf09f7",
   "metadata": {},
   "outputs": [
    {
     "name": "stdin",
     "output_type": "stream",
     "text": [
      "Entrez un nombre:  100\n"
     ]
    },
    {
     "name": "stdout",
     "output_type": "stream",
     "text": [
      "Le nombre est pair.\n",
      "1\n",
      "2\n",
      "3\n",
      "4\n",
      "5\n",
      "6\n",
      "7\n",
      "8\n",
      "9\n",
      "10\n"
     ]
    }
   ],
   "source": [
    "# Vérification pair/impair\n",
    "nombre = int(input(\"Entrez un nombre: \"))\n",
    "if nombre % 2 == 0:\n",
    "    print(\"Le nombre est pair.\")\n",
    "else:\n",
    "    print(\"Le nombre est impair.\")\n",
    "\n",
    "# Boucle for\n",
    "for i in range(1, 11):\n",
    "    print(i)"
   ]
  },
  {
   "cell_type": "markdown",
   "id": "dccf9cd5-c041-4945-9d77-170d6cdeab91",
   "metadata": {},
   "source": [
    "### 4. Fonctions\n",
    "\n",
    "* **Fonctions:** Blocs de code réutilisables qui effectuent une tâche spécifique.\n",
    "\n",
    "**Exercice:**\n",
    "\n",
    "1. Créez une fonction appelée `carre(x)` qui prend un nombre en argument et qui retourne son carré.\n",
    "2. Appelez la fonction `carre()` avec différents nombres et affichez les résultats.\n"
   ]
  },
  {
   "cell_type": "code",
   "execution_count": 5,
   "id": "1ee492fe-d44a-4aa5-967a-0f99d192fe8f",
   "metadata": {},
   "outputs": [
    {
     "name": "stdout",
     "output_type": "stream",
     "text": [
      "25\n"
     ]
    }
   ],
   "source": [
    "# Fonction carré\n",
    "def carre(x):\n",
    "    return x * x\n",
    "\n",
    "# Appel de la fonction\n",
    "resultat = carre(5)\n",
    "print(resultat)"
   ]
  },
  {
   "cell_type": "markdown",
   "id": "f71fde64-ee86-4437-b072-4fc2afec4cf5",
   "metadata": {},
   "source": [
    "### 5. Listes et chaînes de caractères\r\n",
    "\r\n",
    "* **Listes:** Collections ordonnées d'éléments.\r\n",
    "* **Chaînes de caractères:** Séquences de caractères.\r\n",
    "\r\n",
    "**Exercice:**\r\n",
    "\r\n",
    "1. Créez une liste `nombres` contenant les nombres de 1 à 5.\r\n",
    "2. Affichez le premier élément de la liste.\r\n",
    "3. Utilisez une boucle `for` pour parcourir la liste et afficher chaque élément.\r\n",
    "4. Inversez la chaîne de caractères \"Bonjour\" et affichez le résultat.\r\n"
   ]
  },
  {
   "cell_type": "code",
   "execution_count": 7,
   "id": "110b5d21-88ce-4631-9d4c-7923dd689ddb",
   "metadata": {},
   "outputs": [
    {
     "name": "stdout",
     "output_type": "stream",
     "text": [
      "1\n",
      "1\n",
      "2\n",
      "3\n",
      "4\n",
      "5\n",
      "ruojnoB\n"
     ]
    }
   ],
   "source": [
    "# Liste de nombres\n",
    "nombres = [1, 2, 3, 4, 5]\n",
    "print(nombres[0])\n",
    "\n",
    "# Parcourir la liste\n",
    "for nombre in nombres:\n",
    "    print(nombre)\n",
    "\n",
    "# Inverser une chaîne de caractères\n",
    "texte = \"Bonjour\"\n",
    "texte_inverse = texte[::-1]\n",
    "print(texte_inverse)"
   ]
  },
  {
   "cell_type": "markdown",
   "id": "f0029c4e-d72d-47ed-9bf9-953102b93be8",
   "metadata": {
    "editable": true,
    "slideshow": {
     "slide_type": ""
    },
    "tags": []
   },
   "source": [
    "## Continuer l'apprentissage\n",
    "\n",
    "Ce cours n'est qu'une introduction aux classes en Python. Pour approfondir vos connaissances et découvrir toute la puissance de la programmation orientée objet, voici quelques pistes \n",
    "* **Fichier \"Packages.ipynb\" :** Si vous êtes intéressé par le calcul scientifique, l'analyse de données et la visualisation, ce fichier vous présentera des packages Python populaires tels que NumPy, SciPy, Pandas et Matplotlib. Vous apprendrez à manipuler des données, effectuer des analyses complexes et créer des visualisations convaincantes.\n",
    "* **Fichier \"Packages_avancees.ipynb\" :** Python offre un vaste écosystème de packages pour divers domaines. Ce fichier vous permettra de découvrir d'autres packages populaires tels que ceux pour le développement web, l'apprentissage automatique, le traitement d'images, etc. Vous pourrez ainsi explorer les nombreuses possibilités qu'offre Python et trouver les outils adaptés à vos projets.:\n",
    "\n",
    "* **Fichier \"Les classes.py\" :** Explorez des concepts plus avancés tels que les classes abstraites, les propriétés, les méthodes de classe et statiques, et les métaclasses. Ce fichier vous permettra d'approfondir vos compétences en POO et de créer des structures de code plus robustes et flexible.\n",
    "\n",
    "**Ressources supplémentaires :**\n",
    "\n",
    "* **Documentation officielle de Python :** La documentation officielle est une ressource précieuse pour obtenir des informations détaillées sur la syntaxe, les modules et les fonctionnalités de Python.\n",
    "* **Tutoriels et cours en ligne :** De nombreux tutoriels et cours en ligne, gratuits ou payants, sont disponibles pour approfondir vos connaissances en Python et en POO.\n",
    "* **Communauté Python :** Rejoignez la communauté Python active et engageante pour poser des questions, partager vos expériences et apprendre des autres développeurs.\n",
    "\n",
    "**En explorant ces ressources et en pratiquant régulièrement, vous deviendrez un expert en programmation Python et en POO, prêt à relever n'importe quel défi de programmation.**\n"
   ]
  },
  {
   "cell_type": "code",
   "execution_count": null,
   "id": "9c194f43-52e2-4d99-8cae-88bc254fe99e",
   "metadata": {},
   "outputs": [],
   "source": []
  }
 ],
 "metadata": {
  "kernelspec": {
   "display_name": "Python 3",
   "language": "python",
   "name": "python3"
  },
  "language_info": {
   "codemirror_mode": {
    "name": "ipython",
    "version": 3
   },
   "file_extension": ".py",
   "mimetype": "text/x-python",
   "name": "python",
   "nbconvert_exporter": "python",
   "pygments_lexer": "ipython3",
   "version": "3.10.13"
  },
  "toc": {
   "base_numbering": 1
  }
 },
 "nbformat": 4,
 "nbformat_minor": 5
}